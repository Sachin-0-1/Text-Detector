{
 "cells": [
  {
   "cell_type": "code",
   "execution_count": 25,
   "metadata": {},
   "outputs": [],
   "source": [
    "dir='dataset/'\n",
    "def bytetodata(byte_data):\n",
    "    return int.from_bytes(byte_data,\"big\")"
   ]
  },
  {
   "cell_type": "code",
   "execution_count": 17,
   "metadata": {},
   "outputs": [],
   "source": [
    "train_data_file_name='train-images.idx3-ubyte'\n",
    "train_label_file_name='train-labels.idx1-ubyte'"
   ]
  },
  {
   "cell_type": "code",
   "execution_count": 26,
   "metadata": {},
   "outputs": [],
   "source": [
    "def read_images(filename):\n",
    "    images=[]\n",
    "    with open(filename,'rb') as f:\n",
    "        magin_num = bytetodata(f.read(4))\n",
    "        n_images=bytetodata(f.read(4))\n",
    "        n_row=bytetodata(f.read(4))\n",
    "        n_col=bytetodata(f.read(4))\n",
    "        for image_index in range(0,n_images):\n",
    "            image=[]\n",
    "            for row_index in range(0,n_row):\n",
    "                row=[]\n",
    "                for col_index in range(0,n_col):\n",
    "                    pixel=f.read(1);\n",
    "                    row.append(pixel)\n",
    "                image.append(row)\n",
    "            images.append(image)"
   ]
  },
  {
   "cell_type": "code",
   "execution_count": null,
   "metadata": {},
   "outputs": [],
   "source": [
    "x_train=read_images(dir+train_data_file_name)"
   ]
  },
  {
   "cell_type": "code",
   "execution_count": null,
   "metadata": {},
   "outputs": [],
   "source": []
  }
 ],
 "metadata": {
  "kernelspec": {
   "display_name": "Python 3",
   "language": "python",
   "name": "python3"
  },
  "language_info": {
   "codemirror_mode": {
    "name": "ipython",
    "version": 3
   },
   "file_extension": ".py",
   "mimetype": "text/x-python",
   "name": "python",
   "nbconvert_exporter": "python",
   "pygments_lexer": "ipython3",
   "version": "3.7.3"
  }
 },
 "nbformat": 4,
 "nbformat_minor": 2
}
